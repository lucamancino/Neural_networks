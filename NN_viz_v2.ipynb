{
 "cells": [
  {
   "cell_type": "markdown",
   "metadata": {},
   "source": [
    "## Visualizing the results of an ANN on a 2D plane"
   ]
  },
  {
   "cell_type": "markdown",
   "metadata": {},
   "source": [
    "Here we show that, by visualizing the results of a 3-layer NN with (2,5,1) neurons, we get a more complicated result than the one obtained with a (2,1) NN. "
   ]
  },
  {
   "cell_type": "code",
   "execution_count": 1,
   "metadata": {},
   "outputs": [],
   "source": [
    "import numpy as np\n",
    "import matplotlib as mpl\n",
    "import matplotlib.pyplot as plt"
   ]
  },
  {
   "cell_type": "code",
   "execution_count": 2,
   "metadata": {},
   "outputs": [],
   "source": [
    "def apply_layer(y, w, b): \n",
    "    \"\"\"\n",
    "    This function is used to compute the math of a NN layer \n",
    "    \"\"\"\n",
    "    z = np.dot(w,y) + b;\n",
    "    return 1/(1+np.exp(-z))"
   ]
  },
  {
   "cell_type": "code",
   "execution_count": 3,
   "metadata": {},
   "outputs": [],
   "source": [
    "# For this Python notebook, we consider the case of a 3-layer NN with (2,5,1) neurons. The activation function is the sigmoid.\n",
    "N_layers = 3; \n",
    "N_0, N_1, N_2 = 2, 5, 1\n",
    "\n",
    "\n",
    "# For a 3-layer NN, we have 2 connecting matrices and 2 biases vectors\n",
    "w_01 = np.random.uniform(low = -10, high = +10, size = (N_1,N_0)) # N0xN1 matrix\n",
    "w_12 = np.random.uniform(low = -10, high = +10, size = (N_2,N_1)) # N1xN2 matrix\n",
    "b_1 = np.random.uniform(low = -1, high = +1, size = N_1)\n",
    "b_2 = np.random.uniform(low = -1, high = +1, size = N_2)"
   ]
  },
  {
   "cell_type": "code",
   "execution_count": 4,
   "metadata": {},
   "outputs": [
    {
     "name": "stdout",
     "output_type": "stream",
     "text": [
      "The output of the first layer is: [0.00530873 0.99799472 0.72759842 0.0027068  0.99780542]\n",
      "The output of the NN is: [0.99999954]\n"
     ]
    }
   ],
   "source": [
    "# Initial values of the neurons in the first layer\n",
    "in_ = [0.2, 0.8];\n",
    "y_0 = np.array(in_)\n",
    "\n",
    "# Hand-by-hand application of the NN layers\n",
    "y_1 = apply_layer(y_0, w_01, b_1);\n",
    "print('The output of the first layer is:', y_1)\n",
    "y_2 = apply_layer(y_1, w_12, b_2);\n",
    "print('The output of the NN is:', y_2)"
   ]
  },
  {
   "cell_type": "code",
   "execution_count": 5,
   "metadata": {},
   "outputs": [],
   "source": [
    "# NOTE: this is NOT the most efficient way to do this (but simple)\n",
    "\n",
    "M = 50; \n",
    "y_out = np.zeros((M,M)); \n",
    "\n",
    "for jj in range(M):\n",
    "    for kk in range(M):\n",
    "        value_0 = float(jj)/M - 0.5;\n",
    "        value_1 = float(kk)/M - 0.5; \n",
    "        y_out[jj,kk] = apply_layer(apply_layer([value_0, value_1], w_01, b_1) ,w_12, b_2)[0]"
   ]
  },
  {
   "cell_type": "code",
   "execution_count": 6,
   "metadata": {},
   "outputs": [
    {
     "data": {
      "image/png": "[encoded data removed]",
      "text/plain": [
       "<Figure size 432x288 with 2 Axes>"
      ]
     },
     "metadata": {
      "needs_background": "light"
     },
     "output_type": "display_data"
    }
   ],
   "source": [
    "# Display image \n",
    "plt.imshow(y_out, origin = 'lower', extent = (-0.5,0.5,-0.5,0.5))\n",
    "plt.colorbar()\n",
    "plt.xlabel('Value 0')\n",
    "plt.ylabel('Value 1')\n",
    "plt.title('NN result on a 2D plane')\n",
    "plt.show()"
   ]
  }
 ],
 "metadata": {
  "kernelspec": {
   "display_name": "Python 3",
   "language": "python",
   "name": "python3"
  },
  "language_info": {
   "codemirror_mode": {
    "name": "ipython",
    "version": 3
   },
   "file_extension": ".py",
   "mimetype": "text/x-python",
   "name": "python",
   "nbconvert_exporter": "python",
   "pygments_lexer": "ipython3",
   "version": "3.8.3"
  }
 },
 "nbformat": 4,
 "nbformat_minor": 4
}
