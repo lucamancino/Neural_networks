{
 "cells": [
  {
   "cell_type": "markdown",
   "metadata": {},
   "source": [
    "## Visualize network result "
   ]
  },
  {
   "cell_type": "code",
   "execution_count": 11,
   "metadata": {},
   "outputs": [],
   "source": [
    "# Import libraries \n",
    "import numpy as np \n",
    "\n",
    "import matplotlib as mpl \n",
    "import matplotlib.pyplot as plt # for plotting \n",
    "\n",
    "%matplotlib inline"
   ]
  },
  {
   "cell_type": "code",
   "execution_count": 2,
   "metadata": {},
   "outputs": [],
   "source": [
    "def apply_net(y_in):\n",
    "    \"\"\"\n",
    "    This is a function that applies the network \n",
    "    \"\"\"\n",
    "    global w, b \n",
    "    \n",
    "    z = np.dot(w,y_in) + b; # Here w and b are global variables\n",
    "    return (1/(1+np.exp(-z))) # Elementwise "
   ]
  },
  {
   "cell_type": "markdown",
   "metadata": {},
   "source": [
    "In what follows, we consider a (2x1) simple NN to visualize the result on a (y_1, y_2) 2D plane. For such a purpose, we consider w and b as global variables. "
   ]
  },
  {
   "cell_type": "code",
   "execution_count": 3,
   "metadata": {},
   "outputs": [],
   "source": [
    "N0 = 2; # Input layer size\n",
    "N1 = 1; # Output layer size \n",
    "\n",
    "w = np.random.uniform(low = -10, high = +10, size = (N1,N0)) # Random weights: N0xN1\n",
    "b = np.random.uniform(low = -1, high = +1, size = N1) # Biases: N1 vector"
   ]
  },
  {
   "cell_type": "code",
   "execution_count": 17,
   "metadata": {},
   "outputs": [],
   "source": [
    "# NOTE: this is NOT the most efficient way to do this (but simple)\n",
    "\n",
    "M = 50; \n",
    "y_out = np.zeros((M,M)) # initialization of the output plane containing the NN outputs\n",
    "\n",
    "for jj in range(M):\n",
    "    for kk in range(M):\n",
    "        value0 = float(jj)/M - 0.5\n",
    "        value1 = float(kk)/M - 0.5\n",
    "        y_out[jj, kk] = apply_net([value0, value1])[0] # to take the content of the apply_net output "
   ]
  },
  {
   "cell_type": "code",
   "execution_count": 18,
   "metadata": {},
   "outputs": [
    {
     "data": {
      "image/png": "[encoded data removed]",
      "text/plain": [
       "<Figure size 432x288 with 2 Axes>"
      ]
     },
     "metadata": {
      "needs_background": "light"
     },
     "output_type": "display_data"
    }
   ],
   "source": [
    "# Display image\n",
    "plt.imshow(y_out, origin = 'lower', extent = (-0.5,0.5,-0.5,0.5))\n",
    "plt.colorbar()\n",
    "plt.xlabel('Value 0')\n",
    "plt.ylabel('Value 1')\n",
    "plt.title('NN result on a 2D plane')\n",
    "plt.show()"
   ]
  },
  {
   "cell_type": "code",
   "execution_count": null,
   "metadata": {},
   "outputs": [],
   "source": []
  }
 ],
 "metadata": {
  "kernelspec": {
   "display_name": "Python 3",
   "language": "python",
   "name": "python3"
  },
  "language_info": {
   "codemirror_mode": {
    "name": "ipython",
    "version": 3
   },
   "file_extension": ".py",
   "mimetype": "text/x-python",
   "name": "python",
   "nbconvert_exporter": "python",
   "pygments_lexer": "ipython3",
   "version": "3.8.3"
  }
 },
 "nbformat": 4,
 "nbformat_minor": 4
}
