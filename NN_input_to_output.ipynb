{
 "cells": [
  {
   "cell_type": "markdown",
   "metadata": {},
   "source": [
    "### Input to output"
   ]
  },
  {
   "cell_type": "markdown",
   "metadata": {},
   "source": [
    "Two-layers NN with randomly distributed weights and biases. The activation function chosen is the sigmoid. "
   ]
  },
  {
   "cell_type": "code",
   "execution_count": 1,
   "metadata": {},
   "outputs": [],
   "source": [
    "import numpy as np "
   ]
  },
  {
   "cell_type": "code",
   "execution_count": 2,
   "metadata": {},
   "outputs": [],
   "source": [
    "N0 = 3 # input layer size \n",
    "N1 = 2 # output layer size "
   ]
  },
  {
   "cell_type": "code",
   "execution_count": 3,
   "metadata": {},
   "outputs": [],
   "source": [
    "# Here, we are not doing training. This is why we are taking w and b randomly distributed between -1 and +1.\n",
    "\n",
    "w = np.random.uniform(low = -1, high = +1, size = (N1,N0)) # Random weights: N1xN0\n",
    "b = np.random.uniform(low = -1, high = +1, size = N1) # Biases: N1 "
   ]
  },
  {
   "cell_type": "code",
   "execution_count": 4,
   "metadata": {},
   "outputs": [],
   "source": [
    "y_in = np.array([0.2,0.4,-0.1]) # Input values "
   ]
  },
  {
   "cell_type": "code",
   "execution_count": 5,
   "metadata": {},
   "outputs": [],
   "source": [
    "z = np.dot(w,y_in) + b # First layer application  \n",
    "y_out = 1./(1 + np.exp(-z)) # Activation function: sigmoid (applied elementwise)"
   ]
  },
  {
   "cell_type": "code",
   "execution_count": 6,
   "metadata": {},
   "outputs": [
    {
     "name": "stdout",
     "output_type": "stream",
     "text": [
      "The values of the input layer are: [ 0.2  0.4 -0.1]\n",
      " \n",
      "The weight matrix is: [[-0.80705757 -0.6856223  -0.60949431]\n",
      " [-0.26179089 -0.50250599  0.03421035]]\n",
      "The bias vector is: [0.71920154 0.93119995]\n",
      " \n",
      "The results of the first layer application are: [0.34449053 0.67441834]\n",
      "The output is: [0.58528091 0.66249179]\n"
     ]
    }
   ],
   "source": [
    "print('The values of the input layer are:', y_in)\n",
    "print(' ')\n",
    "print('The weight matrix is:', w)\n",
    "print('The bias vector is:', b)\n",
    "print(' ')\n",
    "print('The results of the first layer application are:', z)\n",
    "print('The output is:', y_out)"
   ]
  }
 ],
 "metadata": {
  "kernelspec": {
   "display_name": "Python 3",
   "language": "python",
   "name": "python3"
  },
  "language_info": {
   "codemirror_mode": {
    "name": "ipython",
    "version": 3
   },
   "file_extension": ".py",
   "mimetype": "text/x-python",
   "name": "python",
   "nbconvert_exporter": "python",
   "pygments_lexer": "ipython3",
   "version": "3.8.3"
  }
 },
 "nbformat": 4,
 "nbformat_minor": 4
}
